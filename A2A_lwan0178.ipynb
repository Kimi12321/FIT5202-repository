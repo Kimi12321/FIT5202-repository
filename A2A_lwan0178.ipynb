{
 "cells": [
  {
   "cell_type": "markdown",
   "metadata": {},
   "source": [
    "# FIT5202 Assignment 2A : Building Models for Realtime Food Delivery Prediction\n",
    "\n",
    "## Table of Contents\n",
    "*  \n",
    "    * [Part 1 : Data Loading, Transformation and Exploration](#part-1)\n",
    "    * [Part 2 : Feature extraction and ML training](#part-2)\n",
    "    * [Part 3 : Hyperparameter Tuning and Model Optimisation](#part-3)  \n",
    "Please add code/markdown cells as needed."
   ]
  },
  {
   "cell_type": "markdown",
   "metadata": {},
   "source": [
    "# Part 1: Data Loading, Transformation and Exploration <a class=\"anchor\" name=\"part-1\"></a>\n",
    "## 1.1 Data Loading\n",
    "In this section, you must load the given datasets into PySpark DataFrames and use DataFrame functions to process the data. Spark SQL usage is discouraged, and you can only use pandas to format results. For plotting, various visualisation packages can be used, but please ensure that you have included instructions to install the additional packages and that the installation will be successful in the provided docker container (in case your marker needs to clear the notebook and rerun it).\n",
    "\n",
    "### 1.1.1 Data Loading <a class=\"anchor\" name=\"1.1\"></a>\n",
    "1.1.1 Write the code to create a SparkSession. Please use a SparkConf object to configure the Spark app with a proper application name, to ensure the maximum partition size does not exceed 16MB, and to run locally with 4 CPU cores on your machine . "
   ]
  },
  {
   "cell_type": "code",
   "execution_count": 328,
   "metadata": {},
   "outputs": [],
   "source": [
    "from pyspark import SparkConf  # Import SparkConf to configure Spark application\n",
    "from pyspark.sql import SparkSession  # Import SparkSession to manage the Spark application\n",
    "\n",
    "# Define Spark master URL and application name\n",
    "master = \"local[4]\"  # only using 4 CPU cores\n",
    "app_name = \"FIT5202Ass2A\"  # Name of the Spark application\n",
    "\n",
    "# Configure SparkConf object with master URL and application name\n",
    "spark_conf = SparkConf().setMaster(master).setAppName(app_name)\n",
    "\n",
    "# Create a SparkSession with additional configuration, such as max partition size\n",
    "spark = SparkSession.builder \\\n",
    "    .config(conf=spark_conf) \\\n",
    "    .config(\"spark.files.maxPartitionBytes\", \"16777216\") \\\n",
    "    .getOrCreate() ## Set max partition size to 16MB，16MB = 16777216 Bytes\n",
    "\n",
    "# Get SparkContext and set log level to ERROR\n",
    "sc = spark.sparkContext\n",
    "sc.setLogLevel(\"ERROR\")  # Only log error messages to reduce log output"
   ]
  },
  {
   "cell_type": "markdown",
   "metadata": {},
   "source": [
    "1.1.2 Write code to define the schemas for the datasets, following the data types suggested in the metadata. Then, using predefined schemas, write code to load the CSV files into separate data frames. Print the schemas of all data frames. "
   ]
  },
  {
   "cell_type": "code",
   "execution_count": 329,
   "metadata": {},
   "outputs": [],
   "source": [
    "# Import required modules from PySpark\n",
    "from pyspark.sql.types import *  # For defining schema and data types\n",
    "import pyspark.sql.functions as F  # For performing operations on DataFrames"
   ]
  },
  {
   "cell_type": "code",
   "execution_count": 330,
   "metadata": {},
   "outputs": [],
   "source": [
    "# Define the schema for delivery_address.csv\n",
    "address_schema = StructType([\n",
    "    StructField(\"gid\", StringType(), True),  # ID of delivery address geolocation\n",
    "    StructField(\"street_name\", StringType(), True),\n",
    "    StructField(\"street_type\", StringType(), True),\n",
    "    StructField(\"suburb\", StringType(), True),\n",
    "    StructField(\"postcode\", IntegerType(), True),\n",
    "    StructField(\"state\", StringType(), True),\n",
    "    StructField(\"latitude\", DoubleType(), True),  # Latitude with 6 decimal precision\n",
    "    StructField(\"longitude\", DoubleType(), True),  # Geometry point on maps\n",
    "    StructField(\"geom\", StringType(), True), \n",
    "    StructField(\"delivery_id\", StringType(), True)  # ID of a delivery address\n",
    "])"
   ]
  },
  {
   "cell_type": "code",
   "execution_count": 331,
   "metadata": {},
   "outputs": [],
   "source": [
    "# Read the delivery_address.csv file into a DataFrame using the defined schema\n",
    "df_address = spark.read.csv(\"./delivery_address.csv\", header=True, schema=address_schema)"
   ]
  },
  {
   "cell_type": "code",
   "execution_count": 332,
   "metadata": {},
   "outputs": [],
   "source": [
    "# Define the schema for driver.csv\n",
    "driver_schema = StructType([\n",
    "    StructField(\"driver_id\", StringType(), True),  # Unique identifier of delivery person/driver\n",
    "    StructField(\"age\", IntegerType(), True),  # Driver's age, range 18-60\n",
    "    StructField(\"rating\", DoubleType(), True),  # Overall rating of the driver (float, 0-5 scale)\n",
    "    StructField(\"year_experience\", IntegerType(), True),  # Years of delivery experience\n",
    "    StructField(\"vehicle_condition\", StringType(), True),  # Vehicle condition: 0 (Good), 1 (Fair), 2 (Poor)\n",
    "    StructField(\"type_of_vehicle\", StringType(), True)  # Type of vehicle (Motorcycle, Scooter, etc.)\n",
    "])"
   ]
  },
  {
   "cell_type": "code",
   "execution_count": 333,
   "metadata": {},
   "outputs": [],
   "source": [
    "# Read the driver.csv file into a DataFrame using the defined schema\n",
    "df_driver = spark.read.csv(\"./driver.csv\", header=True, schema=driver_schema)"
   ]
  },
  {
   "cell_type": "code",
   "execution_count": 334,
   "metadata": {},
   "outputs": [],
   "source": [
    "# Define the schema for order.csv\n",
    "order_schema = StructType([\n",
    "    StructField(\"order_id\", StringType(), True),  # Unique identifier of an order\n",
    "    StructField(\"delivery_person_id\", IntegerType(), True),  # ID of the driver delivering the order\n",
    "    StructField(\"order_ts\", IntegerType(), True),  # Timestamp when an order is placed\n",
    "    StructField(\"ready_ts\", IntegerType(), True),  # Timestamp when the order is ready\n",
    "    StructField(\"weather_condition\", StringType(), True),  # Weather condition during the order\n",
    "    StructField(\"road_condition\", StringType(), True),  # Road condition during the order\n",
    "    StructField(\"type_of_order\", StringType(), True),  # Type of order (Snacks, Meals, Drinks, etc.)\n",
    "    StructField(\"order_total\", IntegerType(), True),  # Total value of the order\n",
    "    StructField(\"delivery_time\", IntegerType(), True),  # Delivery time excluding preparation time\n",
    "    StructField(\"travel_distance\", FloatType(), True),  # Total travel distance for the delivery\n",
    "    StructField(\"restaurant_id\", StringType(), True),\n",
    "    StructField(\"delivery_id\", StringType(), True)\n",
    "])"
   ]
  },
  {
   "cell_type": "code",
   "execution_count": 335,
   "metadata": {},
   "outputs": [],
   "source": [
    "# Read the order.csv file into a DataFrame using the defined schema\n",
    "df_order = spark.read.csv(\"./order.csv\", header=True, schema=order_schema)"
   ]
  },
  {
   "cell_type": "code",
   "execution_count": 336,
   "metadata": {},
   "outputs": [],
   "source": [
    "# Define the schema for restaurants.csv\n",
    "restaurant_schema = StructType([\n",
    "    StructField(\"row_id\", IntegerType(), True),  # Row ID of the restaurant\n",
    "    StructField(\"restaurant_code\", StringType(), True),  # Internal code of a restaurant\n",
    "    StructField(\"chain_id\", StringType(), True),  # Chain ID (empty if not part of a chain)\n",
    "    StructField(\"primary_cuisine\", StringType(), True),  # Primary cuisine of the restaurant\n",
    "    StructField(\"latitude\", DoubleType(), True),  # Latitude with 6 decimal precision\n",
    "    StructField(\"longitude\", DoubleType(), True),  # Geometry point on maps\n",
    "    StructField(\"geom\", StringType(), True),  # Geometry point of the restaurant\n",
    "    StructField(\"restaurant_id\", StringType(), True),  # ID of a restaurant (primary key for join)\n",
    "    StructField(\"suburb\", StringType(), True),\n",
    "    StructField(\"postcode\", IntegerType(), True)\n",
    "])"
   ]
  },
  {
   "cell_type": "code",
   "execution_count": 337,
   "metadata": {},
   "outputs": [],
   "source": [
    "# Read the restaurants.csv file into a DataFrame using the defined schema\n",
    "df_restaurant = spark.read.csv(\"./restaurants.csv\", header=True, schema=restaurant_schema)"
   ]
  },
  {
   "cell_type": "code",
   "execution_count": 338,
   "metadata": {},
   "outputs": [
    {
     "name": "stdout",
     "output_type": "stream",
     "text": [
      "root\n",
      " |-- gid: string (nullable = true)\n",
      " |-- street_name: string (nullable = true)\n",
      " |-- street_type: string (nullable = true)\n",
      " |-- suburb: string (nullable = true)\n",
      " |-- postcode: integer (nullable = true)\n",
      " |-- state: string (nullable = true)\n",
      " |-- latitude: double (nullable = true)\n",
      " |-- longitude: double (nullable = true)\n",
      " |-- geom: string (nullable = true)\n",
      " |-- delivery_id: string (nullable = true)\n",
      "\n"
     ]
    }
   ],
   "source": [
    "# Print the schema of the delivery_address.csv DataFrame\n",
    "df_address.printSchema()"
   ]
  },
  {
   "cell_type": "code",
   "execution_count": 339,
   "metadata": {},
   "outputs": [
    {
     "name": "stdout",
     "output_type": "stream",
     "text": [
      "root\n",
      " |-- driver_id: string (nullable = true)\n",
      " |-- age: integer (nullable = true)\n",
      " |-- rating: double (nullable = true)\n",
      " |-- year_experience: integer (nullable = true)\n",
      " |-- vehicle_condition: string (nullable = true)\n",
      " |-- type_of_vehicle: string (nullable = true)\n",
      "\n"
     ]
    }
   ],
   "source": [
    "# Print the schema of the driver.csv DataFrame\n",
    "df_driver.printSchema()"
   ]
  },
  {
   "cell_type": "code",
   "execution_count": 340,
   "metadata": {},
   "outputs": [
    {
     "name": "stdout",
     "output_type": "stream",
     "text": [
      "root\n",
      " |-- order_id: string (nullable = true)\n",
      " |-- delivery_person_id: integer (nullable = true)\n",
      " |-- order_ts: integer (nullable = true)\n",
      " |-- ready_ts: integer (nullable = true)\n",
      " |-- weather_condition: string (nullable = true)\n",
      " |-- road_condition: string (nullable = true)\n",
      " |-- type_of_order: string (nullable = true)\n",
      " |-- order_total: integer (nullable = true)\n",
      " |-- delivery_time: integer (nullable = true)\n",
      " |-- travel_distance: float (nullable = true)\n",
      " |-- restaurant_id: string (nullable = true)\n",
      " |-- delivery_id: string (nullable = true)\n",
      "\n"
     ]
    }
   ],
   "source": [
    "# Print the schema of the order.csv DataFrame\n",
    "df_order.printSchema()"
   ]
  },
  {
   "cell_type": "code",
   "execution_count": 341,
   "metadata": {},
   "outputs": [
    {
     "name": "stdout",
     "output_type": "stream",
     "text": [
      "root\n",
      " |-- row_id: integer (nullable = true)\n",
      " |-- restaurant_code: string (nullable = true)\n",
      " |-- chain_id: string (nullable = true)\n",
      " |-- primary_cuisine: string (nullable = true)\n",
      " |-- latitude: double (nullable = true)\n",
      " |-- longitude: double (nullable = true)\n",
      " |-- geom: string (nullable = true)\n",
      " |-- restaurant_id: string (nullable = true)\n",
      " |-- suburb: string (nullable = true)\n",
      " |-- postcode: integer (nullable = true)\n",
      "\n"
     ]
    }
   ],
   "source": [
    "# Print the schema of the restaurants.csv DataFrame\n",
    "df_restaurant.printSchema()"
   ]
  },
  {
   "cell_type": "markdown",
   "metadata": {},
   "source": [
    "### 1.2 Data Transformation to Create Features <a class=\"anchor\" name=\"1.2\"></a>\n",
    "Feature engineering involves transforming, combining or extracting information from the raw data to create more informative and relevant features that improve the performance of your ML models.  \n",
    "In our food delivery use case, the order_ts is not very useful when it is treated as a timestamp.  \n",
    "However, it provides more information if you perform transformation and extract valuable information from it, for example, extracting the day of the week (it may tell you how busy a restaurant is) or hours (peak hours may have bad traffic conditions).   \n",
    "(Note: Some tasks may overlap with A1, feel free to use/reuse your own code/UDF from A1.)  \n",
    "  \n",
    "Perform the following tasks based on the loaded data frames and create a new one. We will refer to this as feature_df, but feel free to use your own naming. (2% each) \n",
    "Please print 5 rows from the feature_df after each step.\n"
   ]
  },
  {
   "cell_type": "markdown",
   "metadata": {},
   "source": [
    "1.2.1 Extract the day of the week (Monday-Sunday) and hour of the day (0-23) from order_ts, and store the extract information in 2 columns."
   ]
  },
  {
   "cell_type": "code",
   "execution_count": 342,
   "metadata": {},
   "outputs": [
    {
     "name": "stdout",
     "output_type": "stream",
     "text": [
      "+------------------------------------+-----------+-----------+-----------+\n",
      "|order_id                            |delivery_id|day_of_week|hour_of_day|\n",
      "+------------------------------------+-----------+-----------+-----------+\n",
      "|02bccb12-7bb2-41c0-af35-3fe34f6e48f7|7530       |Monday     |20         |\n",
      "|c805e0fd-2214-4dc6-b4bd-ef93bfc63d33|7355       |Wednesday  |21         |\n",
      "|5aba5eac-ab01-4bfa-9805-2cf34a52109e|9140       |Tuesday    |5          |\n",
      "|f258e133-bea0-46b3-80eb-13de47ff1325|23         |Wednesday  |10         |\n",
      "|b8955ebc-2e67-4a9d-b49f-b56ba6cdcf7e|1765       |Wednesday  |11         |\n",
      "|500cd68e-b7bb-4af4-8748-8140659183f5|8720       |Saturday   |21         |\n",
      "|8b96a6c9-34d2-4fc2-9401-ab86a1b5a977|6536       |Sunday     |13         |\n",
      "|3b52cfa9-8960-4406-93e0-a3489b7cc2ce|8818       |Saturday   |20         |\n",
      "|8a3f6783-dfd7-4591-b7ec-764bee1ce97f|6074       |Friday     |21         |\n",
      "|72c06040-5442-4dd7-ac2f-310c9a3462ca|4594       |Sunday     |5          |\n",
      "+------------------------------------+-----------+-----------+-----------+\n",
      "only showing top 10 rows\n",
      "\n"
     ]
    }
   ],
   "source": [
    "# Import necessary modules\n",
    "from pyspark.sql import SparkSession  # For creating a Spark session\n",
    "from pyspark.sql.functions import col, udf  # For column operations and defining UDFs\n",
    "from pyspark.sql.types import StringType, IntegerType  # For defining UDF return types\n",
    "\n",
    "# Step 1: Initialize Spark session\n",
    "# Create a Spark session for processing the dataset\n",
    "spark = SparkSession.builder.appName(\"A2_Task\").getOrCreate()\n",
    "\n",
    "# Step 2: Define UDFs for day of the week and hour of the day\n",
    "# UDF to extract the day of the week (e.g., Monday, Tuesday) from a UNIX timestamp\n",
    "def get_day_of_week(unix_time):\n",
    "    from datetime import datetime\n",
    "    return datetime.utcfromtimestamp(unix_time).strftime('%A')  # Returns the day of the week\n",
    "\n",
    "# UDF to extract the hour of the day (0-23) from a UNIX timestamp\n",
    "def get_hour_of_day(unix_time):\n",
    "    from datetime import datetime\n",
    "    return datetime.utcfromtimestamp(unix_time).hour  # Returns the hour of the day\n",
    "\n",
    "# Register UDFs for use with DataFrame columns\n",
    "get_day_of_week_udf = udf(get_day_of_week, StringType())\n",
    "get_hour_of_day_udf = udf(get_hour_of_day, IntegerType())\n",
    "\n",
    "# Step 3: Load dataset\n",
    "# Load the order.csv file into a DataFrame with headers and infer schema types\n",
    "df_order = spark.read.csv(\"./order.csv\", header=True, inferSchema=True)\n",
    "\n",
    "# Step 4: Ensure order_ts is in the correct format\n",
    "# Convert the order_ts column to long type to ensure it is a valid UNIX timestamp\n",
    "df_order = df_order.withColumn(\"order_ts\", col(\"order_ts\").cast(\"long\"))\n",
    "\n",
    "# Step 5: Add day_of_week and hour_of_day columns\n",
    "# Use UDFs to create two new columns: day_of_week and hour_of_day\n",
    "# Select only the required columns: order_id, day_of_week, hour_of_day\n",
    "feature_df = df_order \\\n",
    "    .withColumn(\"day_of_week\", get_day_of_week_udf(col(\"order_ts\"))) \\\n",
    "    .withColumn(\"hour_of_day\", get_hour_of_day_udf(col(\"order_ts\"))) \\\n",
    "    .select(\"order_id\", \"delivery_id\", \"day_of_week\", \"hour_of_day\")  # Keep only the specified columns\n",
    "\n",
    "# Step 6: Display the result\n",
    "# Show the first 10 rows of the transformed DataFrame with all columns visible\n",
    "feature_df.show(10, truncate=False)"
   ]
  },
  {
   "cell_type": "markdown",
   "metadata": {},
   "source": [
    "1.2.2 Create a new boolean column (isPeak) to indicate peak/non-peak hours. (Peak hours are defined as 7-9 and 16-18 in 24-hour format.)"
   ]
  },
  {
   "cell_type": "code",
   "execution_count": 343,
   "metadata": {},
   "outputs": [
    {
     "name": "stdout",
     "output_type": "stream",
     "text": [
      "+------------------------------------+-----------+-----------+-----------+-------+\n",
      "|order_id                            |delivery_id|day_of_week|hour_of_day|is_peak|\n",
      "+------------------------------------+-----------+-----------+-----------+-------+\n",
      "|02bccb12-7bb2-41c0-af35-3fe34f6e48f7|7530       |Monday     |20         |false  |\n",
      "|c805e0fd-2214-4dc6-b4bd-ef93bfc63d33|7355       |Wednesday  |21         |false  |\n",
      "|5aba5eac-ab01-4bfa-9805-2cf34a52109e|9140       |Tuesday    |5          |false  |\n",
      "|f258e133-bea0-46b3-80eb-13de47ff1325|23         |Wednesday  |10         |false  |\n",
      "|b8955ebc-2e67-4a9d-b49f-b56ba6cdcf7e|1765       |Wednesday  |11         |false  |\n",
      "|500cd68e-b7bb-4af4-8748-8140659183f5|8720       |Saturday   |21         |false  |\n",
      "|8b96a6c9-34d2-4fc2-9401-ab86a1b5a977|6536       |Sunday     |13         |false  |\n",
      "|3b52cfa9-8960-4406-93e0-a3489b7cc2ce|8818       |Saturday   |20         |false  |\n",
      "|8a3f6783-dfd7-4591-b7ec-764bee1ce97f|6074       |Friday     |21         |false  |\n",
      "|72c06040-5442-4dd7-ac2f-310c9a3462ca|4594       |Sunday     |5          |false  |\n",
      "+------------------------------------+-----------+-----------+-----------+-------+\n",
      "only showing top 10 rows\n",
      "\n"
     ]
    }
   ],
   "source": [
    "# Step 1: Define a UDF for detecting peak hours\n",
    "# This UDF checks if the input hour (0-23) is within the peak hour range\n",
    "# Peak hours are defined as [7, 8, 9, 16, 17, 18]\n",
    "def is_peak_hour(hour):\n",
    "    peak_hours = [7, 8, 9, 16, 17, 18]  # Define peak hours\n",
    "    return hour in peak_hours  # Return True if the hour is a peak hour, False otherwise\n",
    "\n",
    "# Register the UDF\n",
    "is_peak_hour_udf = udf(is_peak_hour, StringType())  # UDF returns 'true' or 'false'\n",
    "\n",
    "# Step 2: Add a new column to the DataFrame to identify peak hours\n",
    "# Use the `withColumn` function and apply the UDF to the hour_of_day column\n",
    "feature_df_with_peak = feature_df \\\n",
    "    .withColumn(\"is_peak\", is_peak_hour_udf(col(\"hour_of_day\"))) \\\n",
    "    .select(\"order_id\", \"delivery_id\", \"day_of_week\", \"hour_of_day\", \"is_peak\")\n",
    "\n",
    "# Step 3: Display the resulting DataFrame\n",
    "# Show the first 10 rows of the transformed DataFrame\n",
    "feature_df_with_peak.show(10, truncate=False)"
   ]
  },
  {
   "cell_type": "markdown",
   "metadata": {},
   "source": [
    "1.2.3 Join the geolocation data frame of the restaurant and delivery location, get suburb information and add two columns."
   ]
  },
  {
   "cell_type": "code",
   "execution_count": 364,
   "metadata": {},
   "outputs": [],
   "source": [
    "# Rename delivery address and restaurant DataFrame columns to avoid conflicts during join\n",
    "df_address_renamed = df_address \\\n",
    "    .withColumnRenamed(\"delivery_id\", \"address_delivery_id\") \\\n",
    "    .withColumnRenamed(\"suburb\", \"address_suburb\") \\\n",
    "    .withColumnRenamed(\"postcode\", \"address_postcode\") \\\n",
    "    .withColumnRenamed(\"latitude\", \"address_latitude\") \\\n",
    "    .withColumnRenamed(\"longitude\", \"address_longitude\") \\\n",
    "    .withColumnRenamed(\"geom\", \"address_geom\")\n",
    "\n",
    "df_restaurant_renamed = df_restaurant \\\n",
    "    .withColumnRenamed(\"suburb\", \"restaurant_suburb\") \\\n",
    "    .withColumnRenamed(\"postcode\", \"restaurant_postcode\") \\\n",
    "    .withColumnRenamed(\"latitude\", \"restaurant_latitude\") \\\n",
    "    .withColumnRenamed(\"longitude\", \"restaurant_longitude\") \\\n",
    "    .withColumnRenamed(\"geom\", \"restaurant_geom\")\\\n",
    "    .withColumnRenamed(\"restaurant_id\", \"restaurant_restaurant_id\")\n",
    "\n",
    "df_order_renamed = df_order \\\n",
    "    .withColumnRenamed(\"delivery_id\", \"order_delivery_id\")\\\n",
    "    .withColumnRenamed(\"restaurant_id\", \"order_restaurant_id\")"
   ]
  },
  {
   "cell_type": "code",
   "execution_count": 365,
   "metadata": {},
   "outputs": [
    {
     "name": "stdout",
     "output_type": "stream",
     "text": [
      "+------------------------------------+---------------+-----------------+\n",
      "|order_id                            |address_suburb |restaurant_suburb|\n",
      "+------------------------------------+---------------+-----------------+\n",
      "|02bccb12-7bb2-41c0-af35-3fe34f6e48f7|SOUTH YARRA    |EAST MELBOURNE   |\n",
      "|c805e0fd-2214-4dc6-b4bd-ef93bfc63d33|PRAHRAN        |KENSINGTON       |\n",
      "|5aba5eac-ab01-4bfa-9805-2cf34a52109e|PORT MELBOURNE |PORT MELBOURNE   |\n",
      "|f258e133-bea0-46b3-80eb-13de47ff1325|MELBOURNE      |PARKVILLE        |\n",
      "|b8955ebc-2e67-4a9d-b49f-b56ba6cdcf7e|MELBOURNE      |CARLTON          |\n",
      "|500cd68e-b7bb-4af4-8748-8140659183f5|NORTH MELBOURNE|PORT MELBOURNE   |\n",
      "|8b96a6c9-34d2-4fc2-9401-ab86a1b5a977|WEST MELBOURNE |SOUTH MELBOURNE  |\n",
      "|3b52cfa9-8960-4406-93e0-a3489b7cc2ce|SOUTH YARRA    |EAST MELBOURNE   |\n",
      "|8a3f6783-dfd7-4591-b7ec-764bee1ce97f|SOUTH YARRA    |SOUTH YARRA      |\n",
      "|72c06040-5442-4dd7-ac2f-310c9a3462ca|DOCKLANDS      |NORTH MELBOURNE  |\n",
      "+------------------------------------+---------------+-----------------+\n",
      "only showing top 10 rows\n",
      "\n"
     ]
    }
   ],
   "source": [
    "from pyspark.sql.functions import col\n",
    "\n",
    "# Join delivery address data with orders using order_delivery_id\n",
    "df_with_delivery_suburb = df_order_renamed.join(\n",
    "    df_address_renamed,\n",
    "    col(\"order_delivery_id\") == col(\"address_delivery_id\"),\n",
    "    how=\"left\"\n",
    ").drop(\"address_delivery_id\")  # Remove duplicate column\n",
    "\n",
    "# Join restaurant data with orders using order_restaurant_id\n",
    "df_with_geolocation = df_with_delivery_suburb.join(\n",
    "    df_restaurant_renamed,\n",
    "    col(\"order_restaurant_id\") == col(\"restaurant_restaurant_id\"),\n",
    "    how=\"left\"\n",
    ").drop(\"restaurant_restaurant_id\")  # Remove duplicate column\n",
    "\n",
    "# Select required columns and show the result\n",
    "df_with_geolocation.select(\"order_id\", \"address_suburb\", \"restaurant_suburb\").show(10, truncate=False)"
   ]
  },
  {
   "cell_type": "markdown",
   "metadata": {},
   "source": [
    "1.2.4 Join data frames to add restaurant information to the feature_df: primary_cuisine, latitude, longitude, suburb and postcode."
   ]
  },
  {
   "cell_type": "code",
   "execution_count": 367,
   "metadata": {},
   "outputs": [
    {
     "ename": "AnalysisException",
     "evalue": "[UNRESOLVED_COLUMN.WITH_SUGGESTION] A column or function parameter with name `order_restaurant_id` cannot be resolved. Did you mean one of the following? [`restaurant_code`, `restaurant_restaurant_id`, `restaurant_geom`, `delivery_id`, `order_id`].;\n'Join LeftOuter, ('order_restaurant_id = restaurant_restaurant_id#16887)\n:- Project [order_id#14686, delivery_id#14697, day_of_week#14725, hour_of_day#14740]\n:  +- Project [order_id#14686, delivery_person_id#14687, order_ts#14710L, ready_ts#14689, weather_condition#14690, road_condition#14691, type_of_order#14692, order_total#14693, delivery_time#14694, travel_distance#14695, restaurant_id#14696, delivery_id#14697, day_of_week#14725, get_hour_of_day(order_ts#14710L)#14739 AS hour_of_day#14740]\n:     +- Project [order_id#14686, delivery_person_id#14687, order_ts#14710L, ready_ts#14689, weather_condition#14690, road_condition#14691, type_of_order#14692, order_total#14693, delivery_time#14694, travel_distance#14695, restaurant_id#14696, delivery_id#14697, get_day_of_week(order_ts#14710L)#14724 AS day_of_week#14725]\n:        +- Project [order_id#14686, delivery_person_id#14687, cast(order_ts#14688 as bigint) AS order_ts#14710L, ready_ts#14689, weather_condition#14690, road_condition#14691, type_of_order#14692, order_total#14693, delivery_time#14694, travel_distance#14695, restaurant_id#14696, delivery_id#14697]\n:           +- Relation [order_id#14686,delivery_person_id#14687,order_ts#14688,ready_ts#14689,weather_condition#14690,road_condition#14691,type_of_order#14692,order_total#14693,delivery_time#14694,travel_distance#14695,restaurant_id#14696,delivery_id#14697] csv\n+- Project [row_id#14649, restaurant_code#14650, chain_id#14651, primary_cuisine#14652, restaurant_latitude#16854, restaurant_longitude#16865, restaurant_geom#16876, restaurant_id#14656 AS restaurant_restaurant_id#16887, restaurant_suburb#16832, restaurant_postcode#16843]\n   +- Project [row_id#14649, restaurant_code#14650, chain_id#14651, primary_cuisine#14652, restaurant_latitude#16854, restaurant_longitude#16865, geom#14655 AS restaurant_geom#16876, restaurant_id#14656, restaurant_suburb#16832, restaurant_postcode#16843]\n      +- Project [row_id#14649, restaurant_code#14650, chain_id#14651, primary_cuisine#14652, restaurant_latitude#16854, longitude#14654 AS restaurant_longitude#16865, geom#14655, restaurant_id#14656, restaurant_suburb#16832, restaurant_postcode#16843]\n         +- Project [row_id#14649, restaurant_code#14650, chain_id#14651, primary_cuisine#14652, latitude#14653 AS restaurant_latitude#16854, longitude#14654, geom#14655, restaurant_id#14656, restaurant_suburb#16832, restaurant_postcode#16843]\n            +- Project [row_id#14649, restaurant_code#14650, chain_id#14651, primary_cuisine#14652, latitude#14653, longitude#14654, geom#14655, restaurant_id#14656, restaurant_suburb#16832, postcode#14658 AS restaurant_postcode#16843]\n               +- Project [row_id#14649, restaurant_code#14650, chain_id#14651, primary_cuisine#14652, latitude#14653, longitude#14654, geom#14655, restaurant_id#14656, suburb#14657 AS restaurant_suburb#16832, postcode#14658]\n                  +- Relation [row_id#14649,restaurant_code#14650,chain_id#14651,primary_cuisine#14652,latitude#14653,longitude#14654,geom#14655,restaurant_id#14656,suburb#14657,postcode#14658] csv\n",
     "output_type": "error",
     "traceback": [
      "\u001b[0;31m---------------------------------------------------------------------------\u001b[0m",
      "\u001b[0;31mAnalysisException\u001b[0m                         Traceback (most recent call last)",
      "Cell \u001b[0;32mIn[367], line 4\u001b[0m\n\u001b[1;32m      1\u001b[0m \u001b[38;5;28;01mfrom\u001b[39;00m \u001b[38;5;21;01mpyspark\u001b[39;00m\u001b[38;5;21;01m.\u001b[39;00m\u001b[38;5;21;01msql\u001b[39;00m\u001b[38;5;21;01m.\u001b[39;00m\u001b[38;5;21;01mfunctions\u001b[39;00m \u001b[38;5;28;01mimport\u001b[39;00m col\n\u001b[1;32m      3\u001b[0m \u001b[38;5;66;03m# Step 3: Join restaurant DataFrame with feature_df using restaurant_id\u001b[39;00m\n\u001b[0;32m----> 4\u001b[0m df_with_restaurant_info \u001b[38;5;241m=\u001b[39m \u001b[43mfeature_df\u001b[49m\u001b[38;5;241;43m.\u001b[39;49m\u001b[43mjoin\u001b[49m\u001b[43m(\u001b[49m\n\u001b[1;32m      5\u001b[0m \u001b[43m    \u001b[49m\u001b[43mdf_restaurant_renamed\u001b[49m\u001b[43m,\u001b[49m\n\u001b[1;32m      6\u001b[0m \u001b[43m    \u001b[49m\u001b[43mcol\u001b[49m\u001b[43m(\u001b[49m\u001b[38;5;124;43m\"\u001b[39;49m\u001b[38;5;124;43morder_restaurant_id\u001b[39;49m\u001b[38;5;124;43m\"\u001b[39;49m\u001b[43m)\u001b[49m\u001b[43m \u001b[49m\u001b[38;5;241;43m==\u001b[39;49m\u001b[43m \u001b[49m\u001b[43mcol\u001b[49m\u001b[43m(\u001b[49m\u001b[38;5;124;43m\"\u001b[39;49m\u001b[38;5;124;43mrestaurant_restaurant_id\u001b[39;49m\u001b[38;5;124;43m\"\u001b[39;49m\u001b[43m)\u001b[49m\u001b[43m,\u001b[49m\n\u001b[1;32m      7\u001b[0m \u001b[43m    \u001b[49m\u001b[43mhow\u001b[49m\u001b[38;5;241;43m=\u001b[39;49m\u001b[38;5;124;43m\"\u001b[39;49m\u001b[38;5;124;43mleft\u001b[39;49m\u001b[38;5;124;43m\"\u001b[39;49m\u001b[43m  \u001b[49m\u001b[38;5;66;43;03m# 确保传递字符串值\u001b[39;49;00m\n\u001b[1;32m      8\u001b[0m \u001b[43m)\u001b[49m\u001b[38;5;241m.\u001b[39mdrop(\u001b[38;5;124m\"\u001b[39m\u001b[38;5;124mrestaurant_restaurant_id\u001b[39m\u001b[38;5;124m\"\u001b[39m)  \u001b[38;5;66;03m# Remove duplicate column after join\u001b[39;00m\n\u001b[1;32m     10\u001b[0m \u001b[38;5;66;03m# Step 4: Select required columns and add restaurant information\u001b[39;00m\n\u001b[1;32m     11\u001b[0m df_with_restaurant_info_selected \u001b[38;5;241m=\u001b[39m df_with_restaurant_info\u001b[38;5;241m.\u001b[39mselect(\n\u001b[1;32m     12\u001b[0m     \u001b[38;5;124m\"\u001b[39m\u001b[38;5;124mprimary_cuisine\u001b[39m\u001b[38;5;124m\"\u001b[39m,\n\u001b[1;32m     13\u001b[0m     \u001b[38;5;124m\"\u001b[39m\u001b[38;5;124mrestaurant_latitude\u001b[39m\u001b[38;5;124m\"\u001b[39m,\n\u001b[0;32m   (...)\u001b[0m\n\u001b[1;32m     16\u001b[0m     \u001b[38;5;124m\"\u001b[39m\u001b[38;5;124mrestaurant_postcode\u001b[39m\u001b[38;5;124m\"\u001b[39m\n\u001b[1;32m     17\u001b[0m )\n",
      "File \u001b[0;32m/opt/conda/lib/python3.10/site-packages/pyspark/sql/dataframe.py:2487\u001b[0m, in \u001b[0;36mDataFrame.join\u001b[0;34m(self, other, on, how)\u001b[0m\n\u001b[1;32m   2485\u001b[0m         on \u001b[38;5;241m=\u001b[39m \u001b[38;5;28mself\u001b[39m\u001b[38;5;241m.\u001b[39m_jseq([])\n\u001b[1;32m   2486\u001b[0m     \u001b[38;5;28;01massert\u001b[39;00m \u001b[38;5;28misinstance\u001b[39m(how, \u001b[38;5;28mstr\u001b[39m), \u001b[38;5;124m\"\u001b[39m\u001b[38;5;124mhow should be a string\u001b[39m\u001b[38;5;124m\"\u001b[39m\n\u001b[0;32m-> 2487\u001b[0m     jdf \u001b[38;5;241m=\u001b[39m \u001b[38;5;28;43mself\u001b[39;49m\u001b[38;5;241;43m.\u001b[39;49m\u001b[43m_jdf\u001b[49m\u001b[38;5;241;43m.\u001b[39;49m\u001b[43mjoin\u001b[49m\u001b[43m(\u001b[49m\u001b[43mother\u001b[49m\u001b[38;5;241;43m.\u001b[39;49m\u001b[43m_jdf\u001b[49m\u001b[43m,\u001b[49m\u001b[43m \u001b[49m\u001b[43mon\u001b[49m\u001b[43m,\u001b[49m\u001b[43m \u001b[49m\u001b[43mhow\u001b[49m\u001b[43m)\u001b[49m\n\u001b[1;32m   2488\u001b[0m \u001b[38;5;28;01mreturn\u001b[39;00m DataFrame(jdf, \u001b[38;5;28mself\u001b[39m\u001b[38;5;241m.\u001b[39msparkSession)\n",
      "File \u001b[0;32m/opt/conda/lib/python3.10/site-packages/py4j/java_gateway.py:1322\u001b[0m, in \u001b[0;36mJavaMember.__call__\u001b[0;34m(self, *args)\u001b[0m\n\u001b[1;32m   1316\u001b[0m command \u001b[38;5;241m=\u001b[39m proto\u001b[38;5;241m.\u001b[39mCALL_COMMAND_NAME \u001b[38;5;241m+\u001b[39m\\\n\u001b[1;32m   1317\u001b[0m     \u001b[38;5;28mself\u001b[39m\u001b[38;5;241m.\u001b[39mcommand_header \u001b[38;5;241m+\u001b[39m\\\n\u001b[1;32m   1318\u001b[0m     args_command \u001b[38;5;241m+\u001b[39m\\\n\u001b[1;32m   1319\u001b[0m     proto\u001b[38;5;241m.\u001b[39mEND_COMMAND_PART\n\u001b[1;32m   1321\u001b[0m answer \u001b[38;5;241m=\u001b[39m \u001b[38;5;28mself\u001b[39m\u001b[38;5;241m.\u001b[39mgateway_client\u001b[38;5;241m.\u001b[39msend_command(command)\n\u001b[0;32m-> 1322\u001b[0m return_value \u001b[38;5;241m=\u001b[39m \u001b[43mget_return_value\u001b[49m\u001b[43m(\u001b[49m\n\u001b[1;32m   1323\u001b[0m \u001b[43m    \u001b[49m\u001b[43manswer\u001b[49m\u001b[43m,\u001b[49m\u001b[43m \u001b[49m\u001b[38;5;28;43mself\u001b[39;49m\u001b[38;5;241;43m.\u001b[39;49m\u001b[43mgateway_client\u001b[49m\u001b[43m,\u001b[49m\u001b[43m \u001b[49m\u001b[38;5;28;43mself\u001b[39;49m\u001b[38;5;241;43m.\u001b[39;49m\u001b[43mtarget_id\u001b[49m\u001b[43m,\u001b[49m\u001b[43m \u001b[49m\u001b[38;5;28;43mself\u001b[39;49m\u001b[38;5;241;43m.\u001b[39;49m\u001b[43mname\u001b[49m\u001b[43m)\u001b[49m\n\u001b[1;32m   1325\u001b[0m \u001b[38;5;28;01mfor\u001b[39;00m temp_arg \u001b[38;5;129;01min\u001b[39;00m temp_args:\n\u001b[1;32m   1326\u001b[0m     \u001b[38;5;28;01mif\u001b[39;00m \u001b[38;5;28mhasattr\u001b[39m(temp_arg, \u001b[38;5;124m\"\u001b[39m\u001b[38;5;124m_detach\u001b[39m\u001b[38;5;124m\"\u001b[39m):\n",
      "File \u001b[0;32m/opt/conda/lib/python3.10/site-packages/pyspark/errors/exceptions/captured.py:185\u001b[0m, in \u001b[0;36mcapture_sql_exception.<locals>.deco\u001b[0;34m(*a, **kw)\u001b[0m\n\u001b[1;32m    181\u001b[0m converted \u001b[38;5;241m=\u001b[39m convert_exception(e\u001b[38;5;241m.\u001b[39mjava_exception)\n\u001b[1;32m    182\u001b[0m \u001b[38;5;28;01mif\u001b[39;00m \u001b[38;5;129;01mnot\u001b[39;00m \u001b[38;5;28misinstance\u001b[39m(converted, UnknownException):\n\u001b[1;32m    183\u001b[0m     \u001b[38;5;66;03m# Hide where the exception came from that shows a non-Pythonic\u001b[39;00m\n\u001b[1;32m    184\u001b[0m     \u001b[38;5;66;03m# JVM exception message.\u001b[39;00m\n\u001b[0;32m--> 185\u001b[0m     \u001b[38;5;28;01mraise\u001b[39;00m converted \u001b[38;5;28;01mfrom\u001b[39;00m \u001b[38;5;28;01mNone\u001b[39;00m\n\u001b[1;32m    186\u001b[0m \u001b[38;5;28;01melse\u001b[39;00m:\n\u001b[1;32m    187\u001b[0m     \u001b[38;5;28;01mraise\u001b[39;00m\n",
      "\u001b[0;31mAnalysisException\u001b[0m: [UNRESOLVED_COLUMN.WITH_SUGGESTION] A column or function parameter with name `order_restaurant_id` cannot be resolved. Did you mean one of the following? [`restaurant_code`, `restaurant_restaurant_id`, `restaurant_geom`, `delivery_id`, `order_id`].;\n'Join LeftOuter, ('order_restaurant_id = restaurant_restaurant_id#16887)\n:- Project [order_id#14686, delivery_id#14697, day_of_week#14725, hour_of_day#14740]\n:  +- Project [order_id#14686, delivery_person_id#14687, order_ts#14710L, ready_ts#14689, weather_condition#14690, road_condition#14691, type_of_order#14692, order_total#14693, delivery_time#14694, travel_distance#14695, restaurant_id#14696, delivery_id#14697, day_of_week#14725, get_hour_of_day(order_ts#14710L)#14739 AS hour_of_day#14740]\n:     +- Project [order_id#14686, delivery_person_id#14687, order_ts#14710L, ready_ts#14689, weather_condition#14690, road_condition#14691, type_of_order#14692, order_total#14693, delivery_time#14694, travel_distance#14695, restaurant_id#14696, delivery_id#14697, get_day_of_week(order_ts#14710L)#14724 AS day_of_week#14725]\n:        +- Project [order_id#14686, delivery_person_id#14687, cast(order_ts#14688 as bigint) AS order_ts#14710L, ready_ts#14689, weather_condition#14690, road_condition#14691, type_of_order#14692, order_total#14693, delivery_time#14694, travel_distance#14695, restaurant_id#14696, delivery_id#14697]\n:           +- Relation [order_id#14686,delivery_person_id#14687,order_ts#14688,ready_ts#14689,weather_condition#14690,road_condition#14691,type_of_order#14692,order_total#14693,delivery_time#14694,travel_distance#14695,restaurant_id#14696,delivery_id#14697] csv\n+- Project [row_id#14649, restaurant_code#14650, chain_id#14651, primary_cuisine#14652, restaurant_latitude#16854, restaurant_longitude#16865, restaurant_geom#16876, restaurant_id#14656 AS restaurant_restaurant_id#16887, restaurant_suburb#16832, restaurant_postcode#16843]\n   +- Project [row_id#14649, restaurant_code#14650, chain_id#14651, primary_cuisine#14652, restaurant_latitude#16854, restaurant_longitude#16865, geom#14655 AS restaurant_geom#16876, restaurant_id#14656, restaurant_suburb#16832, restaurant_postcode#16843]\n      +- Project [row_id#14649, restaurant_code#14650, chain_id#14651, primary_cuisine#14652, restaurant_latitude#16854, longitude#14654 AS restaurant_longitude#16865, geom#14655, restaurant_id#14656, restaurant_suburb#16832, restaurant_postcode#16843]\n         +- Project [row_id#14649, restaurant_code#14650, chain_id#14651, primary_cuisine#14652, latitude#14653 AS restaurant_latitude#16854, longitude#14654, geom#14655, restaurant_id#14656, restaurant_suburb#16832, restaurant_postcode#16843]\n            +- Project [row_id#14649, restaurant_code#14650, chain_id#14651, primary_cuisine#14652, latitude#14653, longitude#14654, geom#14655, restaurant_id#14656, restaurant_suburb#16832, postcode#14658 AS restaurant_postcode#16843]\n               +- Project [row_id#14649, restaurant_code#14650, chain_id#14651, primary_cuisine#14652, latitude#14653, longitude#14654, geom#14655, restaurant_id#14656, suburb#14657 AS restaurant_suburb#16832, postcode#14658]\n                  +- Relation [row_id#14649,restaurant_code#14650,chain_id#14651,primary_cuisine#14652,latitude#14653,longitude#14654,geom#14655,restaurant_id#14656,suburb#14657,postcode#14658] csv\n"
     ]
    }
   ],
   "source": [
    "from pyspark.sql.functions import col\n",
    "\n",
    "# Join restaurant DataFrame with feature_df using restaurant_id\n",
    "df_with_restaurant_info = feature_df.join(\n",
    "    df_restaurant_renamed,\n",
    "    col(\"order_restaurant_id\") == col(\"restaurant_restaurant_id\"),\n",
    "    how=\"left\"  # Ensure \"how\" is passed as a string\n",
    ").drop(\"restaurant_restaurant_id\")  # Remove duplicate column after join\n",
    "\n",
    "# Select required columns and add restaurant information\n",
    "df_with_restaurant_info_selected = df_with_restaurant_info.select(\n",
    "    \"primary_cuisine\",\n",
    "    \"restaurant_latitude\",\n",
    "    \"restaurant_longitude\",\n",
    "    \"restaurant_suburb\",\n",
    "    \"restaurant_postcode\"\n",
    ")\n",
    "\n",
    "# Display the final DataFrame\n",
    "df_with_restaurant_info_selected.show(10, truncate=False)"
   ]
  },
  {
   "cell_type": "markdown",
   "metadata": {},
   "source": [
    "1.2.5 Add columns you deem necessary from the dataset (at least one column is required). (hint: delivery driver’s vehicle type may affect the delivery time.)"
   ]
  },
  {
   "cell_type": "code",
   "execution_count": 368,
   "metadata": {},
   "outputs": [
    {
     "name": "stdout",
     "output_type": "stream",
     "text": [
      "+------------------------------------+------------------------+---------------+----------+-------------+-----------+\n",
      "|order_id                            |order_delivery_person_id|type_of_vehicle|order_ts  |delivery_time|order_total|\n",
      "+------------------------------------+------------------------+---------------+----------+-------------+-----------+\n",
      "|02bccb12-7bb2-41c0-af35-3fe34f6e48f7|1313                    |Car            |1733172480|3            |13         |\n",
      "|c805e0fd-2214-4dc6-b4bd-ef93bfc63d33|1589                    |Scooter        |1712178816|7            |80         |\n",
      "|5aba5eac-ab01-4bfa-9805-2cf34a52109e|1554                    |Motorcycle     |1721109376|30           |20         |\n",
      "|f258e133-bea0-46b3-80eb-13de47ff1325|1520                    |eBike          |1713955200|29           |5          |\n",
      "|b8955ebc-2e67-4a9d-b49f-b56ba6cdcf7e|1763                    |Bike           |1710328448|4            |202        |\n",
      "|500cd68e-b7bb-4af4-8748-8140659183f5|1625                    |Bike           |1711230720|24           |17         |\n",
      "|8b96a6c9-34d2-4fc2-9401-ab86a1b5a977|1751                    |Car            |1725801216|9            |14         |\n",
      "|3b52cfa9-8960-4406-93e0-a3489b7cc2ce|1866                    |Motorcycle     |1715460736|11           |21         |\n",
      "|8a3f6783-dfd7-4591-b7ec-764bee1ce97f|1511                    |Bike           |1711142912|71           |7          |\n",
      "|72c06040-5442-4dd7-ac2f-310c9a3462ca|1703                    |Motorcycle     |1710653440|3            |12         |\n",
      "+------------------------------------+------------------------+---------------+----------+-------------+-----------+\n",
      "only showing top 10 rows\n",
      "\n"
     ]
    }
   ],
   "source": [
    "# Step 1: Rename columns in driver.csv to avoid conflicts\n",
    "df_driver_renamed = df_driver \\\n",
    "    .withColumnRenamed(\"driver_id\", \"driver_driver_id\")\n",
    "\n",
    "# Step 2: Ensure data types match between join columns\n",
    "df_order_renamed = df_order \\\n",
    "    .withColumnRenamed(\"delivery_person_id\", \"order_delivery_person_id\") \\\n",
    "    .withColumn(\"order_delivery_person_id\", col(\"order_delivery_person_id\").cast(\"string\"))\n",
    "\n",
    "df_driver_renamed = df_driver_renamed \\\n",
    "    .withColumn(\"driver_driver_id\", col(\"driver_driver_id\").cast(\"string\"))\n",
    "\n",
    "# Step 3: Perform the join to add type_of_vehicle to order DataFrame\n",
    "df_order_with_vehicle = df_order_renamed.join(\n",
    "    df_driver_renamed.select(\"driver_driver_id\", \"type_of_vehicle\"),\n",
    "    df_order_renamed[\"order_delivery_person_id\"] == df_driver_renamed[\"driver_driver_id\"],\n",
    "    how=\"left\"  # Use left join to retain all orders even if no matching driver is found\n",
    ")\n",
    "\n",
    "# Step 4: Select relevant columns, including the new type_of_vehicle column\n",
    "result_df = df_order_with_vehicle.select(\n",
    "    \"order_id\",  # Keep all columns from the original order DataFrame\n",
    "    \"order_delivery_person_id\",\n",
    "    \"type_of_vehicle\",\n",
    "    \"order_ts\",\n",
    "    \"delivery_time\",\n",
    "    \"order_total\"\n",
    ")\n",
    "\n",
    "# Step 5: Display the schema and data\n",
    "result_df.show(10, truncate=False)"
   ]
  },
  {
   "cell_type": "markdown",
   "metadata": {},
   "source": [
    "### 1.3 Exploring the Data <a class=\"anchor\" name=\"1.3\"></a>\n",
    "1.3.1\tWith the feature_df, write code to show the basic statistics: a) For each numeric column, show count, mean, stddev, min, max, 25 percentile, 50 percentile, 75 percentile; b) For each non-numeric column, display the top-5 values and the corresponding counts; c) For each boolean column, display the value and count. "
   ]
  },
  {
   "cell_type": "code",
   "execution_count": 361,
   "metadata": {},
   "outputs": [
    {
     "name": "stdout",
     "output_type": "stream",
     "text": [
      "Numeric column statistics:\n"
     ]
    },
    {
     "data": {
      "text/html": [
       "<style type=\"text/css\">\n",
       "</style>\n",
       "<table id=\"T_d458a\" style='display:inline'>\n",
       "  <caption>Numeric Summary</caption>\n",
       "  <thead>\n",
       "    <tr>\n",
       "      <th class=\"blank level0\" >&nbsp;</th>\n",
       "      <th id=\"T_d458a_level0_col0\" class=\"col_heading level0 col0\" >delivery_id</th>\n",
       "      <th id=\"T_d458a_level0_col1\" class=\"col_heading level0 col1\" >hour_of_day</th>\n",
       "    </tr>\n",
       "    <tr>\n",
       "      <th class=\"index_name level0\" >summary</th>\n",
       "      <th class=\"blank col0\" >&nbsp;</th>\n",
       "      <th class=\"blank col1\" >&nbsp;</th>\n",
       "    </tr>\n",
       "  </thead>\n",
       "  <tbody>\n",
       "    <tr>\n",
       "      <th id=\"T_d458a_level0_row0\" class=\"row_heading level0 row0\" >count</th>\n",
       "      <td id=\"T_d458a_row0_col0\" class=\"data row0 col0\" >949338</td>\n",
       "      <td id=\"T_d458a_row0_col1\" class=\"data row0 col1\" >949338</td>\n",
       "    </tr>\n",
       "    <tr>\n",
       "      <th id=\"T_d458a_level0_row1\" class=\"row_heading level0 row1\" >mean</th>\n",
       "      <td id=\"T_d458a_row1_col0\" class=\"data row1 col0\" >5001.854741935959</td>\n",
       "      <td id=\"T_d458a_row1_col1\" class=\"data row1 col1\" >11.495019687403222</td>\n",
       "    </tr>\n",
       "    <tr>\n",
       "      <th id=\"T_d458a_level0_row2\" class=\"row_heading level0 row2\" >stddev</th>\n",
       "      <td id=\"T_d458a_row2_col0\" class=\"data row2 col0\" >2887.1116688540965</td>\n",
       "      <td id=\"T_d458a_row2_col1\" class=\"data row2 col1\" >6.921775702510894</td>\n",
       "    </tr>\n",
       "    <tr>\n",
       "      <th id=\"T_d458a_level0_row3\" class=\"row_heading level0 row3\" >min</th>\n",
       "      <td id=\"T_d458a_row3_col0\" class=\"data row3 col0\" >1</td>\n",
       "      <td id=\"T_d458a_row3_col1\" class=\"data row3 col1\" >0</td>\n",
       "    </tr>\n",
       "    <tr>\n",
       "      <th id=\"T_d458a_level0_row4\" class=\"row_heading level0 row4\" >25%</th>\n",
       "      <td id=\"T_d458a_row4_col0\" class=\"data row4 col0\" >2501</td>\n",
       "      <td id=\"T_d458a_row4_col1\" class=\"data row4 col1\" >6</td>\n",
       "    </tr>\n",
       "    <tr>\n",
       "      <th id=\"T_d458a_level0_row5\" class=\"row_heading level0 row5\" >50%</th>\n",
       "      <td id=\"T_d458a_row5_col0\" class=\"data row5 col0\" >5003</td>\n",
       "      <td id=\"T_d458a_row5_col1\" class=\"data row5 col1\" >11</td>\n",
       "    </tr>\n",
       "    <tr>\n",
       "      <th id=\"T_d458a_level0_row6\" class=\"row_heading level0 row6\" >75%</th>\n",
       "      <td id=\"T_d458a_row6_col0\" class=\"data row6 col0\" >7506</td>\n",
       "      <td id=\"T_d458a_row6_col1\" class=\"data row6 col1\" >17</td>\n",
       "    </tr>\n",
       "    <tr>\n",
       "      <th id=\"T_d458a_level0_row7\" class=\"row_heading level0 row7\" >max</th>\n",
       "      <td id=\"T_d458a_row7_col0\" class=\"data row7 col0\" >10000</td>\n",
       "      <td id=\"T_d458a_row7_col1\" class=\"data row7 col1\" >23</td>\n",
       "    </tr>\n",
       "  </tbody>\n",
       "</table>\n"
      ],
      "text/plain": [
       "<pandas.io.formats.style.Styler at 0x7fad3209bf40>"
      ]
     },
     "metadata": {},
     "output_type": "display_data"
    },
    {
     "name": "stdout",
     "output_type": "stream",
     "text": [
      "\n",
      "Top 5 values for categorical columns:\n",
      "\n",
      "Column: order_id\n"
     ]
    },
    {
     "data": {
      "text/html": [
       "<style type=\"text/css\">\n",
       "</style>\n",
       "<table id=\"T_53af5\" style='display:inline'>\n",
       "  <caption>Top 5 Values for order_id</caption>\n",
       "  <thead>\n",
       "    <tr>\n",
       "      <th class=\"blank level0\" >&nbsp;</th>\n",
       "      <th id=\"T_53af5_level0_col0\" class=\"col_heading level0 col0\" >order_id</th>\n",
       "      <th id=\"T_53af5_level0_col1\" class=\"col_heading level0 col1\" >count</th>\n",
       "    </tr>\n",
       "  </thead>\n",
       "  <tbody>\n",
       "    <tr>\n",
       "      <th id=\"T_53af5_level0_row0\" class=\"row_heading level0 row0\" >0</th>\n",
       "      <td id=\"T_53af5_row0_col0\" class=\"data row0 col0\" >d940da30-7ee2-4c3a-83a1-74840774332b</td>\n",
       "      <td id=\"T_53af5_row0_col1\" class=\"data row0 col1\" >1</td>\n",
       "    </tr>\n",
       "    <tr>\n",
       "      <th id=\"T_53af5_level0_row1\" class=\"row_heading level0 row1\" >1</th>\n",
       "      <td id=\"T_53af5_row1_col0\" class=\"data row1 col0\" >ec82849d-3460-42f8-a183-f57a7c2197c2</td>\n",
       "      <td id=\"T_53af5_row1_col1\" class=\"data row1 col1\" >1</td>\n",
       "    </tr>\n",
       "    <tr>\n",
       "      <th id=\"T_53af5_level0_row2\" class=\"row_heading level0 row2\" >2</th>\n",
       "      <td id=\"T_53af5_row2_col0\" class=\"data row2 col0\" >4f441bba-805b-4d06-8c4b-8da5671f0ffc</td>\n",
       "      <td id=\"T_53af5_row2_col1\" class=\"data row2 col1\" >1</td>\n",
       "    </tr>\n",
       "    <tr>\n",
       "      <th id=\"T_53af5_level0_row3\" class=\"row_heading level0 row3\" >3</th>\n",
       "      <td id=\"T_53af5_row3_col0\" class=\"data row3 col0\" >837234ba-ddd1-4557-acbe-f09819b2fca3</td>\n",
       "      <td id=\"T_53af5_row3_col1\" class=\"data row3 col1\" >1</td>\n",
       "    </tr>\n",
       "    <tr>\n",
       "      <th id=\"T_53af5_level0_row4\" class=\"row_heading level0 row4\" >4</th>\n",
       "      <td id=\"T_53af5_row4_col0\" class=\"data row4 col0\" >96bc9579-f6df-4146-814e-503980acbad6</td>\n",
       "      <td id=\"T_53af5_row4_col1\" class=\"data row4 col1\" >1</td>\n",
       "    </tr>\n",
       "  </tbody>\n",
       "</table>\n"
      ],
      "text/plain": [
       "<pandas.io.formats.style.Styler at 0x7fad3209a0e0>"
      ]
     },
     "metadata": {},
     "output_type": "display_data"
    },
    {
     "name": "stdout",
     "output_type": "stream",
     "text": [
      "\n",
      "Column: day_of_week\n"
     ]
    },
    {
     "data": {
      "text/html": [
       "<style type=\"text/css\">\n",
       "</style>\n",
       "<table id=\"T_7c899\" style='display:inline'>\n",
       "  <caption>Top 5 Values for day_of_week</caption>\n",
       "  <thead>\n",
       "    <tr>\n",
       "      <th class=\"blank level0\" >&nbsp;</th>\n",
       "      <th id=\"T_7c899_level0_col0\" class=\"col_heading level0 col0\" >day_of_week</th>\n",
       "      <th id=\"T_7c899_level0_col1\" class=\"col_heading level0 col1\" >count</th>\n",
       "    </tr>\n",
       "  </thead>\n",
       "  <tbody>\n",
       "    <tr>\n",
       "      <th id=\"T_7c899_level0_row0\" class=\"row_heading level0 row0\" >0</th>\n",
       "      <td id=\"T_7c899_row0_col0\" class=\"data row0 col0\" >Sunday</td>\n",
       "      <td id=\"T_7c899_row0_col1\" class=\"data row0 col1\" >137504</td>\n",
       "    </tr>\n",
       "    <tr>\n",
       "      <th id=\"T_7c899_level0_row1\" class=\"row_heading level0 row1\" >1</th>\n",
       "      <td id=\"T_7c899_row1_col0\" class=\"data row1 col0\" >Monday</td>\n",
       "      <td id=\"T_7c899_row1_col1\" class=\"data row1 col1\" >137276</td>\n",
       "    </tr>\n",
       "    <tr>\n",
       "      <th id=\"T_7c899_level0_row2\" class=\"row_heading level0 row2\" >2</th>\n",
       "      <td id=\"T_7c899_row2_col0\" class=\"data row2 col0\" >Tuesday</td>\n",
       "      <td id=\"T_7c899_row2_col1\" class=\"data row2 col1\" >136344</td>\n",
       "    </tr>\n",
       "    <tr>\n",
       "      <th id=\"T_7c899_level0_row3\" class=\"row_heading level0 row3\" >3</th>\n",
       "      <td id=\"T_7c899_row3_col0\" class=\"data row3 col0\" >Saturday</td>\n",
       "      <td id=\"T_7c899_row3_col1\" class=\"data row3 col1\" >135734</td>\n",
       "    </tr>\n",
       "    <tr>\n",
       "      <th id=\"T_7c899_level0_row4\" class=\"row_heading level0 row4\" >4</th>\n",
       "      <td id=\"T_7c899_row4_col0\" class=\"data row4 col0\" >Thursday</td>\n",
       "      <td id=\"T_7c899_row4_col1\" class=\"data row4 col1\" >134271</td>\n",
       "    </tr>\n",
       "  </tbody>\n",
       "</table>\n"
      ],
      "text/plain": [
       "<pandas.io.formats.style.Styler at 0x7fad2d4e0460>"
      ]
     },
     "metadata": {},
     "output_type": "display_data"
    },
    {
     "name": "stdout",
     "output_type": "stream",
     "text": [
      "\n",
      "Value counts for boolean columns:\n",
      "No boolean columns found.\n"
     ]
    }
   ],
   "source": [
    "from IPython.display import display\n",
    "\n",
    "# Numeric summary\n",
    "print(\"Numeric column statistics:\")\n",
    "display(numeric_summary.style.set_table_attributes(\"style='display:inline'\").set_caption(\"Numeric Summary\"))\n",
    "\n",
    "# Categorical columns\n",
    "print(\"\\nTop 5 values for categorical columns:\")\n",
    "for col in categorical_cols:\n",
    "    top_5 = (\n",
    "        feature_df.groupBy(col)\n",
    "        .count()\n",
    "        .orderBy(F.col(\"count\").desc())\n",
    "        .limit(5)\n",
    "        .toPandas()\n",
    "    )\n",
    "    print(f\"\\nColumn: {col}\")\n",
    "    display(top_5.style.set_table_attributes(\"style='display:inline'\").set_caption(f\"Top 5 Values for {col}\"))\n",
    "\n",
    "# Boolean columns\n",
    "print(\"\\nValue counts for boolean columns:\")\n",
    "if boolean_cols:\n",
    "    for col in boolean_cols:\n",
    "        value_counts = (\n",
    "            feature_df.groupBy(col).count().orderBy(F.col(col)).toPandas()\n",
    "        )\n",
    "        print(f\"\\nColumn: {col}\")\n",
    "        display(value_counts.style.set_table_attributes(\"style='display:inline'\").set_caption(f\"Value Counts for {col}\"))\n",
    "else:\n",
    "    print(\"No boolean columns found.\")"
   ]
  },
  {
   "cell_type": "markdown",
   "metadata": {},
   "source": [
    "1.3.2 2.\tExplore the dataframe and write code to present two plots, describe your plots and discuss the findings from the plots. (20%) .  \n",
    "○\tOne of the plots must be related to our use case (predicting delivery time).   \n",
    "○\tHint 1: You can use basic plots (e.g., histograms, line charts, scatter plots) to show the relationship between a column and the label or use more advanced plots like correlation plots.  \n",
    "○\tHint 2: If your data is too large for plotting, consider using sampling before plotting.  \n",
    "○\t150 words max for each plot’s description and discussion  \n",
    "○\tFeel free to use any plotting libraries: matplotlib, seabon, plotly, etc.  "
   ]
  },
  {
   "cell_type": "code",
   "execution_count": 350,
   "metadata": {},
   "outputs": [
    {
     "data": {
      "image/png": "[encoded data removed]",
      "text/plain": [
       "<Figure size 800x600 with 1 Axes>"
      ]
     },
     "metadata": {},
     "output_type": "display_data"
    },
    {
     "name": "stdout",
     "output_type": "stream",
     "text": [
      "\n",
      "Analysis of Scatter Plot:\n",
      "The scatter plot shows a positive correlation between travel distance and delivery time.\n",
      "As the travel distance increases, the delivery time also tends to increase, which aligns with expectations.\n",
      "However, further analysis is required to account for other factors such as traffic and weather conditions that may also influence delivery time.\n",
      "\n"
     ]
    }
   ],
   "source": [
    "import pandas as pd\n",
    "import matplotlib.pyplot as plt\n",
    "\n",
    "# read the order.csv\n",
    "file_path = './order.csv'\n",
    "df = pd.read_csv(file_path)\n",
    "\n",
    "# Select the desired column and remove the missing values\n",
    "df = df[['travel_distance', 'delivery_time']].dropna()\n",
    "\n",
    "# Draw the scatter plot\n",
    "plt.figure(figsize=(8, 6))\n",
    "plt.scatter(df['travel_distance'], df['delivery_time'], alpha=0.7, edgecolor='k')\n",
    "plt.title('Relationship Between Travel Distance and Delivery Time')\n",
    "plt.xlabel('Travel Distance (km)')\n",
    "plt.ylabel('Delivery Time (minutes)')\n",
    "plt.grid(True)\n",
    "plt.show()\n",
    "\n",
    "# 150 words analysis\n",
    "print(\"\"\"\n",
    "Analysis of Scatter Plot:\n",
    "The scatter plot shows a positive correlation between travel distance and delivery time.\n",
    "As the travel distance increases, the delivery time also tends to increase, which aligns with expectations.\n",
    "However, further analysis is required to account for other factors such as traffic and weather conditions that may also influence delivery time.\n",
    "\"\"\")"
   ]
  },
  {
   "cell_type": "code",
   "execution_count": 352,
   "metadata": {},
   "outputs": [
    {
     "data": {
      "text/plain": [
       "<Figure size 1000x600 with 0 Axes>"
      ]
     },
     "metadata": {},
     "output_type": "display_data"
    },
    {
     "data": {
      "image/png": "[encoded data removed]",
      "text/plain": [
       "<Figure size 640x480 with 1 Axes>"
      ]
     },
     "metadata": {},
     "output_type": "display_data"
    },
    {
     "name": "stdout",
     "output_type": "stream",
     "text": [
      "\n",
      "Analysis of Box Plot:\n",
      "The box plot shows the distribution of delivery times under different weather conditions.\n",
      "From the plot, we can observe how extreme weather (e.g., Rainy or Stormy) might increase\n",
      "the delivery time due to safety precautions and slower travel speeds.\n",
      "Sunny and Windy conditions generally exhibit shorter delivery times. The findings emphasize\n",
      "that weather conditions significantly influence delivery efficiency.\n",
      "\n"
     ]
    }
   ],
   "source": [
    "import pandas as pd\n",
    "import matplotlib.pyplot as plt\n",
    "\n",
    "# Read the order.csv\n",
    "file_path = './order.csv'\n",
    "df = pd.read_csv(file_path)\n",
    "\n",
    "# Select the desired column and remove the missing values\n",
    "df = df[['weather_condition', 'delivery_time']].dropna()\n",
    "\n",
    "# Draw the box plot\n",
    "plt.figure(figsize=(10, 6))\n",
    "df.boxplot(column='delivery_time', by='weather_condition', grid=False, showfliers=False)\n",
    "plt.title('Delivery Time Across Different Weather Conditions')\n",
    "plt.suptitle('')\n",
    "plt.xlabel('Weather Condition')\n",
    "plt.ylabel('Delivery Time (minutes)')\n",
    "plt.xticks(rotation=45)\n",
    "plt.grid(True, axis='y', linestyle='--', alpha=0.7)\n",
    "plt.show()\n",
    "\n",
    "# 150 words analysis\n",
    "print(\"\"\"\n",
    "Analysis of Box Plot:\n",
    "The box plot shows the distribution of delivery times under different weather conditions.\n",
    "From the plot, we can observe how extreme weather (e.g., Rainy or Stormy) might increase\n",
    "the delivery time due to safety precautions and slower travel speeds.\n",
    "Sunny and Windy conditions generally exhibit shorter delivery times. The findings emphasize\n",
    "that weather conditions significantly influence delivery efficiency.\n",
    "\"\"\")\n"
   ]
  },
  {
   "cell_type": "markdown",
   "metadata": {},
   "source": [
    "## Part 2. Feature extraction and ML training <a class=\"anchor\" name=\"part-2\"></a>\n",
    "In this section, you must use PySpark DataFrame functions and ML packages for data preparation, model building, and evaluation. Other ML packages, such as scikit-learn, should not be used to process the data; however, it’s fine to use them to display the result or evaluate your model.  \n",
    "### 2.1 Discuss the feature selection and prepare the feature columns\n",
    "\n",
    "2.1.1 Based on the data exploration from 1.2 and considering the use case, discuss the importance of those features (For example, which features may be useless and should be removed, which feature has a significant impact on the label column, which should be transformed), which features you are planning to use? Discuss the reasons for selecting them and how you plan to create/transform them.  \n",
    "○\t300 words max for the discussion  \n",
    "○\tPlease only use the provided data for model building  \n",
    "○\tYou can create/add additional features based on the dataset  \n",
    "○\tHint - Use the insights from the data exploration/domain knowledge/statistical models to consider whether to create more feature columns, whether to remove some columns  "
   ]
  },
  {
   "cell_type": "markdown",
   "metadata": {},
   "source": [
    "Predicting delivery time effectively requires selecting features that have a direct impact on the outcome and removing those that do not contribute to the prediction. Columns like order_id, delivery_id, and delivery_person_id are random identifiers that are unique to each record and do not influence the delivery time prediction. These columns can be safely removed as they introduce unnecessary noise without adding any predictive value.\n",
    "Among the most important features to retain and enhance is the delivery_geodistance. This column, calculated using the Euclidean distance between the latitude and longitude of the restaurant and the delivery address, directly reflects the spatial distance involved in the delivery. This feature provides a crucial measure that impacts delivery times, capturing the physical distance as an essential predictor.\n",
    "No additional features like preparation time or time-of-day categorization will be added, as the focus remains solely on incorporating delivery_geodistance while simplifying the feature set. By minimizing the complexity of the dataset and focusing on core predictors, we aim to build a robust and interpretable model. With this approach, we ensure that the data preparation process prioritizes clarity and relevance, enabling the model to deliver accurate predictions efficiently."
   ]
  },
  {
   "cell_type": "markdown",
   "metadata": {},
   "source": [
    "2.1.2 Write code to create/transform the columns based on your discussion above."
   ]
  },
  {
   "cell_type": "code",
   "execution_count": 356,
   "metadata": {},
   "outputs": [
    {
     "name": "stdout",
     "output_type": "stream",
     "text": [
      "+----------+----------+-----------------+--------------+-------------+-----------+-------------+---------------+-------------------+------------------------+-------------------+--------------------+-------------------+----------------+-----------------+--------------------+\n",
      "|  order_ts|  ready_ts|weather_condition|road_condition|type_of_order|order_total|delivery_time|travel_distance|order_restaurant_id|restaurant_restaurant_id|restaurant_latitude|restaurant_longitude|address_delivery_id|address_latitude|address_longitude|delivery_geodistance|\n",
      "+----------+----------+-----------------+--------------+-------------+-----------+-------------+---------------+-------------------+------------------------+-------------------+--------------------+-------------------+----------------+-----------------+--------------------+\n",
      "|1733172480|1733172608|            Rainy|           Low|       Drinks|         13|            3|            1.5|                909|                     909|       -37.81736234|        144.98099801|               7530|    -37.83770984|     145.00154693|0.028918486637713944|\n",
      "|1712178816|1712179072|           Cloudy|        Medium|         Meal|         80|            7|            1.5|                859|                     859|       -37.79080783|        144.92846495|               7355|    -37.84887664|     144.98536926| 0.08130244271478942|\n",
      "|1721109376|1721109504|           Stormy|          High|       Snacks|         20|           30|           10.5|                338|                     338|       -37.83983584|        144.93535594|               9140|    -37.83183184|     144.94451994| 0.01216728860510695|\n",
      "|1713955200|1713955200|            Windy|        Medium|       Snacks|          5|           29|            8.5|                965|                     965|       -37.79532084|        144.95566194|                 23|    -37.81556593|     144.95776973|0.020354519099994046|\n",
      "|1710328448|1710328704|           Cloudy|          High|        Combo|        202|            4|            0.5|                447|                     447|       -37.79283224|        144.97189123|               1765|    -37.81274984|     144.96556394|  0.0208984542132689|\n",
      "|1711230720|1711230848|            Foggy|           Jam|       Drinks|         17|           24|            2.5|                 14|                      14|       -37.83706884|        144.94045394|               8720|    -37.80150885|     144.94304433| 0.03565421446550722|\n",
      "|1725801216|1725801728|            Windy|        Medium|      Dessert|         14|            9|            4.5|                 81|                      81|       -37.83592884|        144.96718793|               6536|    -37.80580649|     144.94350429|0.038318021519542535|\n",
      "|1715460736|1715460992|            Foggy|        Medium|         Meal|         21|           11|            7.5|                897|                     897|       -37.81400984|        144.98641993|               8818|    -37.83530564|     144.97879629| 0.02261926136040002|\n",
      "|1711142912|1711143168|            Rainy|           Low|       Snacks|          7|           71|           10.5|                796|                     796|       -37.83378632|        144.99062991|               6074|    -37.83959084|     144.99787193|0.009281126338482597|\n",
      "|1710653440|1710653568|           Stormy|           Low|         Meal|         12|            3|            1.5|                705|                     705|       -37.79796884|        144.94885494|               4594|    -37.82045262|     144.94049753| 0.02398680189179653|\n",
      "|1724367232|1724367232|            Rainy|          High|       Drinks|         17|           41|            4.5|                160|                     160|        -37.8432867|        144.99394755|               4329|    -37.79557784|     144.96531994| 0.05563879381161826|\n",
      "|1729063680|1729064320|           Stormy|          High|       Snacks|         20|           29|            3.5|                109|                     109|       -37.80297746|        144.95440669|               6763|    -37.79155583|     144.92795495|0.028812292183822582|\n",
      "|1713018752|1713018880|            Windy|        Medium|       Drinks|         18|           10|            5.5|                587|                     587|       -37.83802796|        144.94252314|               2667|    -37.81183002|     144.95955064|0.031245284708156896|\n",
      "|1708881152|1708882176|            Rainy|           Jam|        Combo|        212|           14|            2.5|                792|                     792|       -37.78797984|        144.94188594|                777|    -37.83225984|     144.94634894| 0.04450434550692983|\n",
      "|1718714752|1718715264|           Stormy|        Medium|         Meal|        179|           11|            1.5|                482|                     482|       -37.79288908|        144.91755184|               9107|    -37.83705439|     144.95455908| 0.05762039933750922|\n",
      "|1716211456|1716211712|            Rainy|          High|        Combo|        497|           61|           10.5|                922|                     922|       -37.83456273|        144.97962476|               6588|    -37.79332483|     144.92908694| 0.06522756815000827|\n",
      "|1707525120|1707525376|            Windy|          High|        Combo|         38|           31|            5.5|                961|                     961|       -37.83464784|        144.95825794|               3046|     -37.8439503|     144.98657573|0.029806593105134626|\n",
      "|1723424128|1723424384|            Sunny|           Low|        Combo|        287|           43|            8.5|                 75|                      75|       -37.84137979|        144.99863034|               1964|    -37.79362283|     144.91754595| 0.09410316429384262|\n",
      "|1718189952|1718189952|           Stormy|        Medium|      Dessert|         14|           10|            4.5|                775|                     775|       -37.79149979|        144.92117106|               5780|    -37.79947452|     144.96990689| 0.04938397963268584|\n",
      "|1720822016|1720822272|           Cloudy|        Medium|       Snacks|         15|            6|            3.5|                 10|                      10|       -37.79537485|        144.93703662|               3633|    -37.83819122|     144.98691683| 0.06573641981142081|\n",
      "+----------+----------+-----------------+--------------+-------------+-----------+-------------+---------------+-------------------+------------------------+-------------------+--------------------+-------------------+----------------+-----------------+--------------------+\n",
      "only showing top 20 rows\n",
      "\n"
     ]
    }
   ],
   "source": [
    "from pyspark.sql import SparkSession\n",
    "from pyspark.sql.functions import col, sqrt, pow\n",
    "\n",
    "# Initialize Spark session\n",
    "spark = SparkSession.builder.appName(\"Feature Engineering\").getOrCreate()\n",
    "\n",
    "# Load datasets\n",
    "order_df = spark.read.csv(\"order.csv\", header=True, inferSchema=True)\n",
    "restaurant_df = spark.read.csv(\"restaurants.csv\", header=True, inferSchema=True)\n",
    "delivery_address_df = spark.read.csv(\"delivery_address.csv\", header=True, inferSchema=True)\n",
    "\n",
    "# Rename columns to avoid naming conflicts during joins\n",
    "restaurant_df = restaurant_df \\\n",
    "    .withColumnRenamed(\"restaurant_id\", \"restaurant_restaurant_id\") \\\n",
    "    .withColumnRenamed(\"latitude\", \"restaurant_latitude\") \\\n",
    "    .withColumnRenamed(\"longitude\", \"restaurant_longitude\")\n",
    "\n",
    "delivery_address_df = delivery_address_df \\\n",
    "    .withColumnRenamed(\"delivery_id\", \"address_delivery_id\") \\\n",
    "    .withColumnRenamed(\"latitude\", \"address_latitude\") \\\n",
    "    .withColumnRenamed(\"longitude\", \"address_longitude\")\n",
    "\n",
    "order_df = order_df \\\n",
    "    .withColumnRenamed(\"restaurant_id\", \"order_restaurant_id\") \\\n",
    "    .withColumnRenamed(\"delivery_id\", \"order_delivery_id\")\n",
    "\n",
    "# Join restaurant data with order DataFrame\n",
    "order_df = order_df.join(\n",
    "    restaurant_df.select(\"restaurant_restaurant_id\", \"restaurant_latitude\", \"restaurant_longitude\"),\n",
    "    order_df[\"order_restaurant_id\"] == restaurant_df[\"restaurant_restaurant_id\"],\n",
    "    \"left\"\n",
    ")\n",
    "\n",
    "# Join delivery address data with order DataFrame\n",
    "order_df = order_df.join(\n",
    "    delivery_address_df.select(\"address_delivery_id\", \"address_latitude\", \"address_longitude\"),\n",
    "    order_df[\"order_delivery_id\"] == delivery_address_df[\"address_delivery_id\"],\n",
    "    \"left\"\n",
    ")\n",
    "\n",
    "# Calculate delivery_geodistance using Euclidean approximation\n",
    "order_df = order_df.withColumn(\n",
    "    \"delivery_geodistance\",\n",
    "    sqrt(pow(col(\"restaurant_latitude\") - col(\"address_latitude\"), 2) + pow(col(\"restaurant_longitude\") - col(\"address_longitude\"), 2))\n",
    ")\n",
    "\n",
    "# Drop irrelevant columns\n",
    "columns_to_drop = [\"order_id\", \"order_delivery_id\", \"delivery_person_id\"]\n",
    "order_df = order_df.drop(*columns_to_drop)\n",
    "\n",
    "# Show the final transformed DataFrame\n",
    "order_df.show()"
   ]
  },
  {
   "cell_type": "markdown",
   "metadata": {},
   "source": [
    "### 2.2 Preparing Spark ML Transformers/Estimators for features, labels, and models  <a class=\"anchor\" name=\"2.2\"></a>\n",
    "\n",
    "**2.2.1 Write code to create Transformers/Estimators for transforming/assembling the columns you selected above in 2.1 and create ML model Estimators for Random Forest (RF) and Gradient-boosted tree (GBT) model.\n",
    "Please DO NOT fit/transform the data yet.**"
   ]
  },
  {
   "cell_type": "code",
   "execution_count": null,
   "metadata": {},
   "outputs": [],
   "source": []
  },
  {
   "cell_type": "markdown",
   "metadata": {},
   "source": [
    "**2.2.2. Write code to include the above Transformers/Estimators into two pipelines.\n",
    "Please DO NOT fit/transform the data yet.**"
   ]
  },
  {
   "cell_type": "code",
   "execution_count": null,
   "metadata": {},
   "outputs": [],
   "source": []
  },
  {
   "cell_type": "markdown",
   "metadata": {},
   "source": [
    "### 2.3 Preparing the training data and testing data  \n",
    "Write code to split the data for training and testing, using 2025 as the random seed. You can decide the train/test split ratio based on the resources available on your laptop.  \n",
    "Note: Due to the large dataset size, you can use random sampling (say 20% of the dataset). "
   ]
  },
  {
   "cell_type": "code",
   "execution_count": null,
   "metadata": {},
   "outputs": [],
   "source": []
  },
  {
   "cell_type": "markdown",
   "metadata": {},
   "source": [
    "### 2.4 Training and evaluating models  \n",
    "2.4.1 Write code to use the corresponding ML Pipelines to train the models on the training data from 2.3. And then use the trained models to predict the testing data from 2.3"
   ]
  },
  {
   "cell_type": "code",
   "execution_count": null,
   "metadata": {},
   "outputs": [],
   "source": []
  },
  {
   "cell_type": "markdown",
   "metadata": {},
   "source": [
    "2.4.2 For both models (RF and GBT): with the test data, decide on which metrics to use for model evaluation and discuss which one is the better model (no word limit; please keep it concise). You may also use a plot for visualisation (not mandatory)."
   ]
  },
  {
   "cell_type": "code",
   "execution_count": null,
   "metadata": {},
   "outputs": [],
   "source": []
  },
  {
   "cell_type": "markdown",
   "metadata": {},
   "source": [
    "2.4.3 3.\tSave the better model (you’ll need it for A2B).\n",
    "(Note: You may need to go through a few training loops or use more data to create a better-performing model.)"
   ]
  },
  {
   "cell_type": "code",
   "execution_count": null,
   "metadata": {},
   "outputs": [],
   "source": []
  },
  {
   "cell_type": "markdown",
   "metadata": {},
   "source": [
    "### Part 3. Hyperparameter Tuning and Model Optimisation <a class=\"anchor\" name=\"part-3\"></a>  \n",
    "Apply the techniques you have learnt from the labs, for example, CrossValidator, TrainValidationSplit, ParamGridBuilder, etc., to perform further hyperparameter tuning and model optimisation.  \n",
    "The assessment is based on the quality of your work/process, not the quality of your model. Please include your thoughts/ideas/discussions."
   ]
  },
  {
   "cell_type": "code",
   "execution_count": null,
   "metadata": {},
   "outputs": [],
   "source": []
  },
  {
   "cell_type": "markdown",
   "metadata": {},
   "source": []
  },
  {
   "cell_type": "markdown",
   "metadata": {},
   "source": [
    "## References:\n",
    "Please add your references below:"
   ]
  },
  {
   "cell_type": "code",
   "execution_count": null,
   "metadata": {},
   "outputs": [],
   "source": []
  },
  {
   "cell_type": "code",
   "execution_count": null,
   "metadata": {},
   "outputs": [],
   "source": []
  }
 ],
 "metadata": {
  "kernelspec": {
   "display_name": "Python 3 (ipykernel)",
   "language": "python",
   "name": "python3"
  },
  "language_info": {
   "codemirror_mode": {
    "name": "ipython",
    "version": 3
   },
   "file_extension": ".py",
   "mimetype": "text/x-python",
   "name": "python",
   "nbconvert_exporter": "python",
   "pygments_lexer": "ipython3",
   "version": "3.10.13"
  }
 },
 "nbformat": 4,
 "nbformat_minor": 4
}
